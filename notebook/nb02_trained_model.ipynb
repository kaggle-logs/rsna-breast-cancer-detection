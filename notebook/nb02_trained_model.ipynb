{
 "cells": [
  {
   "attachments": {},
   "cell_type": "markdown",
   "metadata": {},
   "source": [
    "# Libraries"
   ]
  },
  {
   "cell_type": "code",
   "execution_count": 17,
   "metadata": {},
   "outputs": [],
   "source": [
    "import sys\n",
    "sys.path.append(\"/Users/ktakeda/workspace/kaggle/rsna-breast-cancer-detection\")\n",
    "\n",
    "import os\n",
    "import pandas as pd\n",
    "import numpy as np\n",
    "import cv2\n",
    "import pathlib \n",
    "import torch\n",
    "from torch.utils.data import DataLoader\n",
    "import argparse\n",
    "from joblib import Parallel, delayed\n",
    "import matplotlib.pyplot as plt\n",
    "from tqdm import tqdm\n",
    "import pickle\n",
    "\n",
    "# local\n",
    "from rsna.utility import load_data, data_to_device, dicom2png\n",
    "from rsna.preprocess import Transform, df_preprocess\n",
    "from rsna.model import ResNet50Network, EfficientNet\n",
    "from rsna.config import DEVICE, PLATFORM\n",
    "from rsna.dataset import RSNADatasetPNG"
   ]
  },
  {
   "attachments": {},
   "cell_type": "markdown",
   "metadata": {},
   "source": [
    "## 学習済みモデルの評価\n",
    "\n",
    "- 2/7 時点で score 0.04 となった最新の学習済みモデルを評価する\n",
    "    - そもそも train dataset に対して、性能が出ているのか？"
   ]
  },
  {
   "cell_type": "code",
   "execution_count": 9,
   "metadata": {},
   "outputs": [],
   "source": [
    "# dataset, dataloader\n",
    "df_train = load_data(\"train\", custom_path=\"/Users/ktakeda/workspace/kaggle/rsna-breast-cancer-detection/data/dicom2png_512\")\n",
    "df_train = df_preprocess(df_train, is_train=True, sampling=\"down\")\n",
    "df_train_0 = df_train[df_train[\"cancer\"]==0].reset_index(drop=True)\n",
    "df_train_1 = df_train[df_train[\"cancer\"]==1].reset_index(drop=True)\n",
    "transform = Transform(cfg=None, only_test=True) \n",
    "dataset0 = RSNADatasetPNG(df_train_0, transform.get(is_train=False), csv_columns = [\"laterality\", \"view\", \"age\", \"implant\"], has_target=True, image_prep_ver=\"v3\")\n",
    "dataset1 = RSNADatasetPNG(df_train_1, transform.get(is_train=False), csv_columns = [\"laterality\", \"view\", \"age\", \"implant\"], has_target=True, image_prep_ver=\"v3\")\n",
    "loader0 = DataLoader(dataset0, batch_size=8, shuffle=False, num_workers=2)\n",
    "loader1 = DataLoader(dataset1, batch_size=8, shuffle=False, num_workers=2)"
   ]
  },
  {
   "cell_type": "code",
   "execution_count": 10,
   "metadata": {},
   "outputs": [
    {
     "data": {
      "text/plain": [
       "<All keys matched successfully>"
      ]
     },
     "execution_count": 10,
     "metadata": {},
     "output_type": "execute_result"
    }
   ],
   "source": [
    "# model_name = f\"model_fold1_epoch49_vacc0.506_vpfbeta0.417.pth\"\n",
    "model_name = \"../data/models/0210/model_fold1_epoch50_vacc0.636_vpfbeta0.571.pth\"\n",
    "# load trained model\n",
    "model = EfficientNet(pretrained=False).to(DEVICE)\n",
    "model.load_state_dict(torch.load(model_name, map_location=torch.device(DEVICE)))"
   ]
  },
  {
   "cell_type": "code",
   "execution_count": 13,
   "metadata": {},
   "outputs": [
    {
     "name": "stderr",
     "output_type": "stream",
     "text": [
      "100%|██████████| 145/145 [04:42<00:00,  1.95s/it]\n"
     ]
    }
   ],
   "source": [
    "model.eval()\n",
    "\n",
    "# predict\n",
    "predict_true0, predict_true1 = [], []\n",
    "\n",
    "#for idx, data in enumerate(dataset0):\n",
    "#    if idx > 200: break\n",
    "#    image = torch.unsqueeze(data[\"image\"],1)\n",
    "#    target = data[\"target\"]\n",
    "#    out = model(image, None)\n",
    "#    pred = torch.sigmoid(out)\n",
    "#\n",
    "#    predict_true0.append(pred.squeeze(1).cpu().detach().numpy()[0])\n",
    "\n",
    "for data in tqdm(loader1, total=len(loader1)):\n",
    "    # image = torch.unsqueeze(data[\"image\"],1)\n",
    "    target = data[\"target\"]\n",
    "    out = model(data[\"image\"], None)\n",
    "    pred = torch.sigmoid(out)\n",
    "    predict_true1.extend(list(pred.squeeze(1).cpu().detach().numpy()))"
   ]
  },
  {
   "cell_type": "code",
   "execution_count": 16,
   "metadata": {},
   "outputs": [
    {
     "data": {
      "image/png": "[encoded data removed]",
      "text/plain": [
       "<Figure size 500x300 with 1 Axes>"
      ]
     },
     "metadata": {},
     "output_type": "display_data"
    }
   ],
   "source": [
    "fig, ax = plt.subplots(figsize=(5,3))\n",
    "# ax.hist(predict_true0, label=\"0\")\n",
    "ax.hist(predict_true1, label=\"1\", bins=30, range=(0,1))\n",
    "ax.set_xlim(0,1)\n",
    "ax.legend()\n",
    "plt.show()"
   ]
  },
  {
   "attachments": {},
   "cell_type": "markdown",
   "metadata": {},
   "source": [
    "# Valid だけ"
   ]
  },
  {
   "cell_type": "code",
   "execution_count": 20,
   "metadata": {},
   "outputs": [
    {
     "data": {
      "text/plain": [
       "(772,)"
      ]
     },
     "execution_count": 20,
     "metadata": {},
     "output_type": "execute_result"
    }
   ],
   "source": []
  },
  {
   "cell_type": "code",
   "execution_count": 29,
   "metadata": {},
   "outputs": [],
   "source": [
    "with open(\"../data/models/0210/train_index_fold0.pkl\", \"rb\") as f:\n",
    "    train_index = pickle.load(f)\n",
    "with open(\"../data/models/0210/valid_index_fold0.pkl\", \"rb\") as f:\n",
    "    valid_index = pickle.load(f)\n",
    "\n",
    "# dataset, dataloader\n",
    "df_data = load_data(\"train\", custom_path=\"/Users/ktakeda/workspace/kaggle/rsna-breast-cancer-detection/data/dicom2png_512\")\n",
    "df_data = df_preprocess(df_data, is_train=True, sampling=\"down\")\n",
    "df_train = df_data.iloc[train_index].reset_index(drop=True)\n",
    "df_valid = df_data.iloc[valid_index].reset_index(drop=True)\n",
    "\n",
    "df_train_0 = df_train[df_train[\"cancer\"]==0].reset_index(drop=True)\n",
    "df_train_1 = df_train[df_train[\"cancer\"]==1].reset_index(drop=True)\n",
    "df_valid_0 = df_valid[df_valid[\"cancer\"]==0].reset_index(drop=True)\n",
    "df_valid_1 = df_valid[df_valid[\"cancer\"]==1].reset_index(drop=True)\n",
    "\n",
    "transform = Transform(cfg=None, only_test=True) \n",
    "train_dataset0 = RSNADatasetPNG(df_train_0, transform.get(is_train=False), csv_columns = [\"laterality\", \"view\", \"age\", \"implant\"], has_target=True, image_prep_ver=\"v3\")\n",
    "train_dataset1 = RSNADatasetPNG(df_train_1, transform.get(is_train=False), csv_columns = [\"laterality\", \"view\", \"age\", \"implant\"], has_target=True, image_prep_ver=\"v3\")\n",
    "train_loader0 = DataLoader(train_dataset0, batch_size=8, shuffle=False, num_workers=2)\n",
    "train_loader1 = DataLoader(train_dataset1, batch_size=8, shuffle=False, num_workers=2)\n",
    "\n",
    "valid_dataset0 = RSNADatasetPNG(df_valid_0, transform.get(is_train=False), csv_columns = [\"laterality\", \"view\", \"age\", \"implant\"], has_target=True, image_prep_ver=\"v3\")\n",
    "valid_dataset1 = RSNADatasetPNG(df_valid_1, transform.get(is_train=False), csv_columns = [\"laterality\", \"view\", \"age\", \"implant\"], has_target=True, image_prep_ver=\"v3\")\n",
    "valid_loader0 = DataLoader(valid_dataset0, batch_size=8, shuffle=False, num_workers=2)\n",
    "valid_loader1 = DataLoader(valid_dataset1, batch_size=8, shuffle=False, num_workers=2)"
   ]
  },
  {
   "cell_type": "code",
   "execution_count": 30,
   "metadata": {},
   "outputs": [
    {
     "name": "stderr",
     "output_type": "stream",
     "text": [
      "98it [03:08,  1.92s/it]                        \n",
      "100%|██████████| 48/48 [01:38<00:00,  2.06s/it]\n"
     ]
    }
   ],
   "source": [
    "model.eval()\n",
    "\n",
    "# predict\n",
    "predict_train1, predict_valid1 = [], []\n",
    "\n",
    "for data in tqdm(train_loader1, total=len(loader1)):\n",
    "    target = data[\"target\"]\n",
    "    out = model(data[\"image\"], None)\n",
    "    pred = torch.sigmoid(out)\n",
    "    predict_train1.extend(list(pred.squeeze(1).cpu().detach().numpy()))\n",
    "for data in tqdm(valid_loader1, total=len(loader1)):\n",
    "    target = data[\"target\"]\n",
    "    out = model(data[\"image\"], None)\n",
    "    pred = torch.sigmoid(out)\n",
    "    predict_valid1.extend(list(pred.squeeze(1).cpu().detach().numpy()))"
   ]
  },
  {
   "cell_type": "code",
   "execution_count": 27,
   "metadata": {},
   "outputs": [
    {
     "data": {
      "image/png": "[encoded data removed]",
      "text/plain": [
       "<Figure size 500x300 with 1 Axes>"
      ]
     },
     "metadata": {},
     "output_type": "display_data"
    }
   ],
   "source": [
    "fig, ax = plt.subplots(figsize=(5,3))\n",
    "# ax.hist(predict_true0, label=\"0\")\n",
    "ax.hist(predict_true1, label=\"1\", bins=60, range=(0,1))\n",
    "ax.set_xlim(0,1)\n",
    "ax.legend()\n",
    "plt.show()"
   ]
  },
  {
   "cell_type": "code",
   "execution_count": null,
   "metadata": {},
   "outputs": [],
   "source": []
  }
 ],
 "metadata": {
  "kernelspec": {
   "display_name": "rsna3.10",
   "language": "python",
   "name": "python3"
  },
  "language_info": {
   "codemirror_mode": {
    "name": "ipython",
    "version": 3
   },
   "file_extension": ".py",
   "mimetype": "text/x-python",
   "name": "python",
   "nbconvert_exporter": "python",
   "pygments_lexer": "ipython3",
   "version": "3.10.9"
  },
  "orig_nbformat": 4,
  "vscode": {
   "interpreter": {
    "hash": "9ebb975f138c097a137a6dc12a4a39951a694257232e4650cfcbe763fc36433c"
   }
  }
 },
 "nbformat": 4,
 "nbformat_minor": 2
}
